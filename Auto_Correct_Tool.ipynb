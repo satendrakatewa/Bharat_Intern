{
 "cells": [
  {
   "cell_type": "code",
   "execution_count": null,
   "metadata": {
    "scrolled": true
   },
   "outputs": [],
   "source": [
    "from difflib import get_close_matches\n",
    "\n",
    "def correct_word(word):\n",
    "    \n",
    "    # Animal Names\n",
    "    \n",
    "    word_list = [ 'Dog', 'Cow', 'Cat','Horse',\n",
    "\n",
    "                 'Donkey', 'Tiger','Lion', 'Panther', \n",
    "\n",
    "                 'Leopard','Cheetah','Bea','Elephant',\n",
    "\n",
    "                 'Polar bear','Turtle','Tortoise','Crocodile',\n",
    "\n",
    "                 'Rabbit','Porcupine','Hare','Hen',\n",
    "\n",
    "                 'Pigeon','Albatross','Crow','Fish',\n",
    "\n",
    "                 'Dolphin','Frog','Whale','Alligator',\n",
    "\n",
    "                 'Eagle','Flying squirrel','Ostrich','Fox',\n",
    "\n",
    "                 'Goat','Jackal','Emu','Armadillo',\n",
    "\n",
    "                 'Eel', 'Goose', 'Arctic fox', 'Wolf']\n",
    "    \n",
    "   \n",
    "    if word in word_list:\n",
    "        return word \n",
    "    \n",
    "   \n",
    "    closest_matches = get_close_matches(word, word_list)\n",
    "    \n",
    "    if closest_matches:\n",
    "        return closest_matches[0]  \n",
    "    \n",
    "    return \"I apologize for the inconvenience. Let me provide you with another line:\" \n",
    "\n",
    "input_word = input(\" Enter a word: \")\n",
    "\n",
    "corrected_word = correct_word(input_word)\n",
    "\n",
    "print(\" The word above is incorrect. The corrected word is:\", corrected_word)"
   ]
  }
 ],
 "metadata": {
  "kernelspec": {
   "display_name": "Python 3 (ipykernel)",
   "language": "python",
   "name": "python3"
  },
  "language_info": {
   "codemirror_mode": {
    "name": "ipython",
    "version": 3
   },
   "file_extension": ".py",
   "mimetype": "text/x-python",
   "name": "python",
   "nbconvert_exporter": "python",
   "pygments_lexer": "ipython3",
   "version": "3.11.3"
  }
 },
 "nbformat": 4,
 "nbformat_minor": 2
}
